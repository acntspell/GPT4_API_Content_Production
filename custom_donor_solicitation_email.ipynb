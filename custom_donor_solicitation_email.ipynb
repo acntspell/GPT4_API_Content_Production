{
 "cells": [
  {
   "cell_type": "markdown",
   "metadata": {},
   "source": [
    "### Import Packages and OpenAI API Key"
   ]
  },
  {
   "cell_type": "code",
   "execution_count": null,
   "metadata": {},
   "outputs": [],
   "source": [
    "import pandas as pd\n",
    "from openai import OpenAI\n",
    "import os\n",
    "from dotenv import load_dotenv\n",
    "\n",
    "# Load environment variables from .env file\n",
    "load_dotenv()\n",
    "\n",
    "# Access the API key\n",
    "api_key = os.getenv('api_key')\n",
    "\n",
    "print(\"API Key:\", api_key)"
   ]
  },
  {
   "cell_type": "markdown",
   "metadata": {},
   "source": [
    "### Import the Preprocessed Donor List.\n",
    "<p> \n",
    "The donor list has been preprocessed to format each of the responses in a first person voice. The original reponses were in int64, float64, and string format. \n",
    "<p>\n",
    "As an example, in the original rough donor file, the feature number_gifts was stored as a integer value. In the preprocessed donor file, this integer value as been replaced with \"I have given ______ times.\" So a value of 11, would be preprossed to returned \"I have given 11 times.\" \n",
    "<p>\n",
    "Missing values are returned as NA and omitted in the following script."
   ]
  },
  {
   "cell_type": "code",
   "execution_count": null,
   "metadata": {},
   "outputs": [],
   "source": [
    "# Load the CSV file containing donor data\n",
    "df = pd.read_csv(\"donors.csv\")\n",
    "\n",
    "df.head()"
   ]
  },
  {
   "cell_type": "markdown",
   "metadata": {},
   "source": [
    "### Select a sample of donors.\n",
    "<p>\n",
    "As an example, select a 20 person sample of donors randomly from the donor list."
   ]
  },
  {
   "cell_type": "code",
   "execution_count": null,
   "metadata": {},
   "outputs": [],
   "source": [
    "#random sample of 20 donors\n",
    "sdf = df.sample(20)\n",
    "\n",
    "sdf.head()"
   ]
  },
  {
   "cell_type": "markdown",
   "metadata": {},
   "source": [
    "### Create the self description for each donor.\n",
    "<p>\n",
    "Using a conversational prompt format, this will orient the model to each donor's specific interests."
   ]
  },
  {
   "cell_type": "code",
   "execution_count": null,
   "metadata": {},
   "outputs": [],
   "source": [
    "#combine features not equal to NA into a single string for each donor with the exception of donor_id and name\n",
    "sdf['description'] = sdf[sdf.columns[2:]].apply(lambda x: '.'.join(x.dropna().astype(str)), axis=1)\n",
    "\n",
    "sdf['description'].head()"
   ]
  },
  {
   "cell_type": "markdown",
   "metadata": {},
   "source": [
    "### Define Writer\n",
    "<p>\n",
    "Using a conversational prompt technique, this will orient the model to who the writer is affecting the ouput of the model. "
   ]
  },
  {
   "cell_type": "code",
   "execution_count": null,
   "metadata": {},
   "outputs": [],
   "source": [
    "# Access the API key\n",
    "writer = os.getenv('nep_writer')\n",
    "\n",
    "print(\"Writer Bio:\", writer)"
   ]
  },
  {
   "cell_type": "markdown",
   "metadata": {},
   "source": [
    "### Define Client Org\n",
    "<p>\n",
    "Using a conversational prompt technique, this will orient the model to the organization soliciting the donation."
   ]
  },
  {
   "cell_type": "code",
   "execution_count": null,
   "metadata": {},
   "outputs": [],
   "source": [
    "client_org = os.getenv('nep_client')\n",
    "\n",
    "print(\"Client Bio:\", client_org)"
   ]
  },
  {
   "cell_type": "markdown",
   "metadata": {},
   "source": [
    "### Generate messages via GPT4\n",
    "<p>\n",
    "This script iterates through each donor, using their specific demographic and giving information to create a solicitation letter in the voice of the writer defined earlier on behalf of the client defined earlier."
   ]
  },
  {
   "cell_type": "code",
   "execution_count": null,
   "metadata": {},
   "outputs": [],
   "source": [
    "client = OpenAI(api_key=api_key)\n",
    "\n",
    "solicitation_df = pd.DataFrame(columns=['donor_id', 'solicitation'])\n",
    "\n",
    "# Example usage\n",
    "for index, row in sdf.iterrows():\n",
    "    # combine columns not labeled name or donor_id into a single string of text\n",
    "    demographic_info = row['description']\n",
    "\n",
    "    #save name to variable\n",
    "    name = row['name']\n",
    "\n",
    "    # Creating a prompt using the demographic information\n",
    "  \n",
    "    prompt = f\"Create a personalized solicitation message for {name},\"\n",
    "    prompt += \" who describes themselves as: \" + demographic_info +\".\"\n",
    "    prompt += \" The message should be tailored to their interests and background.\"\n",
    "    prompt += \" The message should be professional and respectful.\"\n",
    "    prompt += \" The message should be written in a friendly and engaging tone.\"\n",
    "    prompt += \" The message should be concise and to the point.\"\n",
    "    prompt += \" The message should be persuasive and compelling.\"\n",
    "    prompt += \" The writer should use the donors description of themselves in an inconscpicious way.\"\n",
    "    prompt += \" The message should feature a specific ask for support and be less than 1000 characters.\"\n",
    "\n",
    "    #generate the message\n",
    "    \n",
    "    response = client.chat.completions.create(\n",
    "        model=\"gpt-4\",\n",
    "        messages=[\n",
    "            {\"role\": \"system\", \"content\": writer},\n",
    "            {\"role\": \"user\", \"content\": client_org},\n",
    "            {\"role\": \"user\", \"content\": prompt}\n",
    "        ],\n",
    "       temperature=1,\n",
    "       max_tokens=1000,\n",
    "       top_p=1,\n",
    "       frequency_penalty=0,\n",
    "       presence_penalty=0\n",
    "    )\n",
    "    \n",
    "    #save the message to new dataframe by joining with donor_id\n",
    "    solicitation = response.choices[0].message.content \n",
    "\n",
    "    #add each response as a new row in the dataframe\n",
    "    solicitation_df = pd.concat([solicitation_df, pd.DataFrame({'donor_id': row['donor_id'], 'solicitation': solicitation}, index=[0])], ignore_index=True)"
   ]
  },
  {
   "cell_type": "markdown",
   "metadata": {},
   "source": [
    "### Output to CSV for mail merge."
   ]
  },
  {
   "cell_type": "code",
   "execution_count": null,
   "metadata": {},
   "outputs": [],
   "source": [
    "#save the dataframe to a csv file\n",
    "solicitation_df.to_csv('solicitations.csv', index=False)\n",
    "\n",
    "#save sample to a csv file\n",
    "sdf.to_csv(\"sample.csv\", index=False)"
   ]
  }
 ],
 "metadata": {
  "kernelspec": {
   "display_name": "Python 3",
   "language": "python",
   "name": "python3"
  },
  "language_info": {
   "codemirror_mode": {
    "name": "ipython",
    "version": 3
   },
   "file_extension": ".py",
   "mimetype": "text/x-python",
   "name": "python",
   "nbconvert_exporter": "python",
   "pygments_lexer": "ipython3",
   "version": "3.11.6"
  }
 },
 "nbformat": 4,
 "nbformat_minor": 2
}
